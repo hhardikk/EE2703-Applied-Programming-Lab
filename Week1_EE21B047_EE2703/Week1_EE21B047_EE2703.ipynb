{
 "cells": [
  {
   "cell_type": "markdown",
   "id": "bc66b3b5-035d-4397-af1d-5c64e180632f",
   "metadata": {},
   "source": [
    "# Document metadata\n",
    "\n",
    "> *Problem statement: modify this document so that the author name reflects your name and roll number.  Explain the changes you needed to make here.  If you use other approaches such as LaTeX to generate the PDF, explain the differences between the notebook approach and what you have used.*"
   ]
  },
  {
   "cell_type": "markdown",
   "id": "d4af2567",
   "metadata": {},
   "source": [
    "#Explanation \n",
    "By opening Python Notebook , and replacing the author's name by my name and roll nunmber."
   ]
  },
  {
   "cell_type": "markdown",
   "id": "47576f05-90e1-4c8b-b75b-13ebffe95171",
   "metadata": {},
   "source": [
    "# Basic Data Types\n",
    "\n",
    "Here we have a series of small problems involving various basic data types in Python.  You are required to complete the code where required, and give *brief* explanations of your answers.  Remember that the documentation and explanation is as important as the answer.\n",
    "\n",
    "For each of the following cells, first execute them, and then give a brief explanation of why the answer comes out to be the way it does.  If there is an error during execution of the cell, explain how you fixed it.  **Add a new cell of type Markdown with the explanation** after the corresponding cell.  If you are using plain Python, add suitable comments after each line and explain this in the documentation (clearly you would be better off using Notebooks here)."
   ]
  },
  {
   "cell_type": "markdown",
   "id": "90d271f4",
   "metadata": {},
   "source": [
    "## Numerical types"
   ]
  },
  {
   "cell_type": "code",
   "execution_count": 2,
   "id": "1e2d2e6e",
   "metadata": {},
   "outputs": [
    {
     "name": "stdout",
     "output_type": "stream",
     "text": [
      "2.4\n"
     ]
    }
   ],
   "source": [
    "print(12 / 5)"
   ]
  },
  {
   "cell_type": "markdown",
   "id": "bfab4646",
   "metadata": {},
   "source": [
    "In this line of code, normal divison takes place resulting in floating point number 2.4"
   ]
  },
  {
   "cell_type": "code",
   "execution_count": 3,
   "id": "1b587eb7",
   "metadata": {},
   "outputs": [
    {
     "name": "stdout",
     "output_type": "stream",
     "text": [
      "2\n"
     ]
    }
   ],
   "source": [
    "print(12 // 5)"
   ]
  },
  {
   "cell_type": "markdown",
   "id": "6b502f6c",
   "metadata": {},
   "source": [
    "In this line of code, integer divisor takes place (floor divison) which gives us the floor value 2."
   ]
  },
  {
   "cell_type": "code",
   "execution_count": 4,
   "id": "97a6c535",
   "metadata": {},
   "outputs": [
    {
     "name": "stdout",
     "output_type": "stream",
     "text": [
      "10 10 1.0\n"
     ]
    }
   ],
   "source": [
    "a=b=10\n",
    "print(a,b,a/b)"
   ]
  },
  {
   "cell_type": "markdown",
   "id": "b7236cd8",
   "metadata": {},
   "source": [
    "Here we assign value of 10 to a and b simultaneously using '=' operator and thus printing (a, b, a/b) we get 10, 10 and 1.0 (because we are using normal division here)"
   ]
  },
  {
   "cell_type": "markdown",
   "id": "af329d1c",
   "metadata": {},
   "source": [
    "## Strings and related operations"
   ]
  },
  {
   "cell_type": "code",
   "execution_count": 7,
   "id": "ba913542",
   "metadata": {},
   "outputs": [
    {
     "name": "stdout",
     "output_type": "stream",
     "text": [
      "Hello \n"
     ]
    }
   ],
   "source": [
    "a = \"Hello \"\n",
    "print(a)"
   ]
  },
  {
   "cell_type": "markdown",
   "id": "cda5bf7b",
   "metadata": {},
   "source": [
    "Here, \"a\" is a string variable holding the value \"Hello,\" leading to the output of the above result."
   ]
  },
  {
   "cell_type": "code",
   "execution_count": 8,
   "id": "ad0e046b",
   "metadata": {},
   "outputs": [
    {
     "ename": "NameError",
     "evalue": "name 'b' is not defined",
     "output_type": "error",
     "traceback": [
      "\u001b[0;31m---------------------------------------------------------------------------\u001b[0m",
      "\u001b[0;31mNameError\u001b[0m                                 Traceback (most recent call last)",
      "Cell \u001b[0;32mIn[8], line 1\u001b[0m\n\u001b[0;32m----> 1\u001b[0m \u001b[38;5;28mprint\u001b[39m(a\u001b[38;5;241m+\u001b[39m\u001b[43mb\u001b[49m)  \u001b[38;5;66;03m# Output should contain \"Hello 10\" \u001b[39;00m\n",
      "\u001b[0;31mNameError\u001b[0m: name 'b' is not defined"
     ]
    }
   ],
   "source": [
    "print(a+b)"
   ]
  },
  {
   "cell_type": "markdown",
   "id": "666d5a94",
   "metadata": {},
   "source": [
    "This line of code is giving us an error because we are adding 2 variables of different data types and in python we can add 2 different variable only if they have the same data type. Here data type of a is string and on the other hand data type of b is int and so it is showing an error."
   ]
  },
  {
   "cell_type": "code",
   "execution_count": 9,
   "id": "93502c42",
   "metadata": {},
   "outputs": [
    {
     "name": "stdout",
     "output_type": "stream",
     "text": [
      "Hello 10 \n"
     ]
    }
   ],
   "source": [
    "b = \"10 \"\n",
    "print(a+b)"
   ]
  },
  {
   "cell_type": "markdown",
   "id": "76cf1432",
   "metadata": {},
   "source": [
    "To rectify the above error I initialised variable b again as 10 but this time as a string data type and hence we are getting the result \"Hello 10\" upon printing (a+b). "
   ]
  },
  {
   "cell_type": "code",
   "execution_count": 16,
   "id": "e2793fa4",
   "metadata": {
    "scrolled": true
   },
   "outputs": [
    {
     "name": "stdout",
     "output_type": "stream",
     "text": [
      "----------------------------------------\n",
      "                                       42\n",
      "*-*-*-*-*-*-*-*-*-*-*-*-*-*-*-*-*-*-*-*-\n"
     ]
    }
   ],
   "source": [
    "print(\"-\"*40)\n",
    "print(f\"{42:>41}\")\n",
    "print(\"*-\"*20)"
   ]
  },
  {
   "cell_type": "markdown",
   "id": "0c93260d",
   "metadata": {},
   "source": [
    "To print \"-\" 40 times, I am using the function \"* quantity\" to print it for required number of times and similarly used this function only to print \"*-\" line of length 40\n",
    "Nextly, using the function \":>\" I am priting \"42\" right justified by 41 units"
   ]
  },
  {
   "cell_type": "code",
   "execution_count": 13,
   "id": "9b4e1f03",
   "metadata": {},
   "outputs": [
    {
     "name": "stdout",
     "output_type": "stream",
     "text": [
      "The variable 'a' has the value Hello  and 'b' has the value        10 \n"
     ]
    }
   ],
   "source": [
    "print(f\"The variable 'a' has the value {a} and 'b' has the value {b:>10}\")"
   ]
  },
  {
   "cell_type": "markdown",
   "id": "40a2e0c5",
   "metadata": {},
   "source": [
    "Here the function {b:>10} shifts the value b or the value stored in b right wards by 10 spaces.\n",
    "Similarly, if we use {a:<10} it will make the value left shifted by 10 spaces."
   ]
  },
  {
   "cell_type": "code",
   "execution_count": 20,
   "id": "9d746f81",
   "metadata": {},
   "outputs": [
    {
     "name": "stdout",
     "output_type": "stream",
     "text": [
      "EE2703                     Applied Programming Lab\n",
      "EE2003                       Computer Organisation\n",
      "EE5311                           Digital IC Design\n"
     ]
    }
   ],
   "source": [
    "Courses_List = [{\"ID\" : \"EE2703\", \"Name\" : \"Applied Programming Lab\"},\n",
    "                {\"ID\" : \"EE2003\", \"Name\" : \"Computer Organisation\"},\n",
    "                {\"ID\" : \"EE5311\", \"Name\" : \"Digital IC Design\"}]\n",
    "\n",
    "for i in Courses_List:\n",
    "    print(f\"{i['ID']:<10}{i['Name']:>40}\")"
   ]
  },
  {
   "cell_type": "markdown",
   "id": "29fe3538",
   "metadata": {},
   "source": [
    "Running the list through for loop and storing the data present in the 2 key's of the current dictionary present in loop in 2 variables and printing it with the requried left and right justification as required. "
   ]
  },
  {
   "cell_type": "markdown",
   "id": "959169d6",
   "metadata": {},
   "source": [
    "# Functions for general manipulation"
   ]
  },
  {
   "cell_type": "code",
   "execution_count": 41,
   "id": "fb799573",
   "metadata": {},
   "outputs": [
    {
     "name": "stdout",
     "output_type": "stream",
     "text": [
      "Method 1\n",
      "0000000000001010\n",
      "1111111111110110\n",
      "11101100\n",
      "\n",
      "Method 2\n",
      "0000000000001010\n",
      "1111111111110110\n",
      "11101100\n"
     ]
    }
   ],
   "source": [
    "def twosc(x, N=16):\n",
    "    binary = []\n",
    "    if (x*1 >= 0):\n",
    "        for i in range(N):\n",
    "            binary.append(x%2)\n",
    "            x = x//2\n",
    "        a = len(binary)\n",
    "        for j in range(a):\n",
    "            print(binary[a - j - 1], end=\"\")\n",
    "    else:\n",
    "        x = x*-1\n",
    "        for i in range(N):\n",
    "            binary.append(x%2)\n",
    "            x = x//2\n",
    "        a = len(binary)\n",
    "        \n",
    "        indi=0\n",
    "        for p in range(a):\n",
    "            j=binary[p]\n",
    "            if(indi==0):\n",
    "                pass\n",
    "            else:\n",
    "                binary[p]=1-j\n",
    "            if(j==1):\n",
    "                indi=1   \n",
    "        for j in range(a):\n",
    "            print(binary[a - j - 1], end=\"\")\n",
    "            \n",
    "def twosc_2(x, N=16):\n",
    "    string = ''\n",
    "    for i in range(N):\n",
    "        string = str(x%2) + string\n",
    "        x = x//2\n",
    "    print(string)\n",
    "\n",
    "print(\"Method 1\")\n",
    "twosc(10)\n",
    "print()\n",
    "twosc(-10)\n",
    "print()\n",
    "twosc(-20,8)\n",
    "\n",
    "print(f\"\\n\")\n",
    "\n",
    "print(\"Method 2\")\n",
    "twosc_2(10)\n",
    "twosc_2(-10)\n",
    "twosc_2(-20,8)"
   ]
  },
  {
   "cell_type": "markdown",
   "id": "4b1e084a",
   "metadata": {},
   "source": [
    "METHOD 1:\n",
    "\n",
    "I have created an array called \"binary\" which when run through for loop, stores the remainder when the number is divided by \"2\" until the number becomes \"1\". But since, in the array the remainder's gets stored in opposite order as required, so while printing the binary number of the given decimal, I am printing the array in \"reverse order\".\n",
    "\n",
    "When the given decimal number is \"negative\", we need to find 2's compliment. But firstly I am following the same series of steps of creating an array with the remainders by turning the given negative number positive. Then running an another for loop which will check \"first 1\" in the binary array and after this first \"1\" is noticed, I am overwriting the next subsequent numbers as \"1 - number\" (that is taking the compliment) and then printing the binary array in reverse order to get 2's compliment of the given negative number. "
   ]
  },
  {
   "cell_type": "markdown",
   "id": "f27443a6",
   "metadata": {},
   "source": [
    "METHOD 2:\n",
    "\n",
    "This is a much simple method as compared to the above one. Here I am creating a string which stores the (Number % 2) until the number becomes 1 in opposite order. In case of negative number while finding the modulo negative sign is neglected and then same process is followed giving us the 2's compliment of the output after printing string 's'."
   ]
  },
  {
   "cell_type": "markdown",
   "id": "d9845f63",
   "metadata": {},
   "source": [
    "# List comprehensions and decorators"
   ]
  },
  {
   "cell_type": "code",
   "execution_count": 21,
   "id": "9f573a70-d7f0-4496-926f-34b7cff5492f",
   "metadata": {},
   "outputs": [
    {
     "data": {
      "text/plain": [
       "[0, 4, 16, 36, 64]"
      ]
     },
     "execution_count": 21,
     "metadata": {},
     "output_type": "execute_result"
    }
   ],
   "source": [
    "[x*x for x in range(10) if x%2 == 0]"
   ]
  },
  {
   "cell_type": "markdown",
   "id": "81dedf06",
   "metadata": {},
   "source": [
    "For loop for x runs from 0 to 9 times, where \"x*x\"is printed only when the condition of x%2 = 0 is satisfied and is added to the output list. "
   ]
  },
  {
   "cell_type": "code",
   "execution_count": 6,
   "id": "d34ddb81-5caf-40a7-ac1f-43ce08d64220",
   "metadata": {},
   "outputs": [
    {
     "data": {
      "text/plain": [
       "[1, 2, 3, 4, 5, 6, 7, 8, 9]"
      ]
     },
     "execution_count": 6,
     "metadata": {},
     "output_type": "execute_result"
    }
   ],
   "source": [
    "matrix = [[1,2,3], [4,5,6], [7,8,9]]\n",
    "[v for row in matrix for v in row]"
   ]
  },
  {
   "cell_type": "markdown",
   "id": "6052749c",
   "metadata": {},
   "source": [
    "A for loop is running over all the rows of matrix and then another for loop is running inside it through all the elements present in that row to print the respective element. Thus printing all the elements which are present in the (3*3) matrix in form of a list. "
   ]
  },
  {
   "cell_type": "code",
   "execution_count": 7,
   "id": "e7349601-a068-4d91-bc0f-bcc755c4b215",
   "metadata": {},
   "outputs": [
    {
     "name": "stdout",
     "output_type": "stream",
     "text": [
      "[2, 3, 5, 7, 11, 13, 17, 19, 23, 29, 31, 37, 41, 43, 47, 53, 59, 61, 67, 71, 73, 79, 83, 89, 97] "
     ]
    }
   ],
   "source": [
    "def is_prime(x):\n",
    "    if x > 1:\n",
    "        for i in range(2, int(x**0.5)+1):\n",
    "            if (x % i) == 0:\n",
    "                return False\n",
    "        return True\n",
    "    else:\n",
    "        return False\n",
    "\n",
    "print([x for x in range(100) if is_prime(x) == True], end=\" \")"
   ]
  },
  {
   "cell_type": "markdown",
   "id": "f12aace8",
   "metadata": {},
   "source": [
    "A function is_prime is defined which takes an input argument x and checks whether the number is prime or not.\n",
    "\n",
    "It directly returns False if x is either a negative number, 0 or 1.\n",
    "\n",
    "Apart from those numbers, it iterates a for loop in range (2, square root (x)) and if number x is divisible by any one of them I am returning False and if it passes through the for loop, it means it has no divisors and thus I am returning True. \n",
    "\n",
    "A one liner statement is used to print all the prime numbers from 1 to 100, wherein the condition to get printed is `is_prime(x)` should return true for the particular x. "
   ]
  },
  {
   "cell_type": "code",
   "execution_count": 14,
   "id": "3dd1087b-f384-41a2-88d8-6788336d2291",
   "metadata": {},
   "outputs": [
    {
     "name": "stdout",
     "output_type": "stream",
     "text": [
      "Hello happy flappy world\n"
     ]
    }
   ],
   "source": [
    "def f1(x):\n",
    "    return \"happy \" + x\n",
    "def f2(f):\n",
    "    def wrapper(*args, **kwargs):\n",
    "        return \"Hello \" + f(*args, **kwargs) + \" world\"\n",
    "    return wrapper\n",
    "f3 = f2(f1)\n",
    "print(f3(\"flappy\"))"
   ]
  },
  {
   "cell_type": "markdown",
   "id": "15b1ef2c",
   "metadata": {},
   "source": [
    "Two functions are defined here, `f1` and `f2`. Here `f1` takes a single input argument `x` and returns a string `happy + x`. On the other hand `f2` also takes a single input argument and returns up a new function called `wrapper`.\n",
    "\n",
    "Wrapper takes any number of position arguments (*args) and keyworded arguments (**kwargs), wherein wrapper returns a string by combining `Hello`, `result of function f with given arguments` (f is the input given to f2) and `world`.\n",
    "\n",
    "Finally we define `f3 = f2(f1)`. So when we call `f3` with input as `flappy`, since `f2` takes in `f1` as argument so `flappy` goes in input to `f1`, thereby it's output is given as input to `f2` after which `wrapper` function is called which as earlier told combines `Hello` + `result of f1` since `f1` is passed to `f2` + `world`.\n",
    "\n",
    "Thus we get the output as `Hello happy flappy world`."
   ]
  },
  {
   "cell_type": "code",
   "execution_count": 16,
   "id": "ede870a7-6564-4930-9ff1-818f075c3e43",
   "metadata": {},
   "outputs": [
    {
     "name": "stdout",
     "output_type": "stream",
     "text": [
      "Hello nappy flappy world\n"
     ]
    }
   ],
   "source": [
    "@f2\n",
    "def f4(x):\n",
    "    return \"nappy \" + x\n",
    "\n",
    "print(f4(\"flappy\"))"
   ]
  },
  {
   "cell_type": "markdown",
   "id": "0583f63e",
   "metadata": {},
   "source": [
    "Here a decorator `@f2` is defined above another function `f4`. `f4` takes in only a single argument and returns a string `nappy + x`.\n",
    "\n",
    "When we call `f4` with input `flappy`, it returns `nappy flappy` and this is passed in `f2` since `f2` is defined as a decorator here, which takes this as input, pass it through the wrapper function, thus getting output as `Hello nappy flappy world`."
   ]
  },
  {
   "cell_type": "markdown",
   "id": "de144cc1-a06a-4e96-8017-7887296dddc0",
   "metadata": {},
   "source": [
    "# File IO"
   ]
  },
  {
   "cell_type": "code",
   "execution_count": 19,
   "id": "09e62f52-fec6-4026-a4d8-ca4b87b19732",
   "metadata": {},
   "outputs": [
    {
     "name": "stdout",
     "output_type": "stream",
     "text": [
      "2 3 5 7 11 13 17 19 23 29 31 37 41 43 47 53 59 61 67 71 73 79 83 89 97 101 103 107 109 113 127 131 137 139 149 151 "
     ]
    }
   ],
   "source": [
    "def write_primes(N, filename):\n",
    "    for i in range(1, N+1):\n",
    "        if (is_prime(i) == True):\n",
    "            filename.write(f\"{str(i)} \")\n",
    "            print(f\"{str(i)} \", end=\"\")\n",
    "\n",
    "file = open(\"apl_1.txt\",'w')\n",
    "write_primes(152, file)\n",
    "file.close()"
   ]
  },
  {
   "cell_type": "markdown",
   "id": "72080d03",
   "metadata": {},
   "source": [
    "A function `write_primes` is defined which takes 2 inputs, `N` and `filename`. \n",
    "\n",
    "It uses `is_prime` function over all integers from `(1, N)` to check whether it is prime or not and if it is prime, it is written inside the file given in the input filename.\n",
    "\n",
    "Writing in a file is done by the function `file.write()` and subsequent file functions are used to open and close it after use."
   ]
  },
  {
   "cell_type": "markdown",
   "id": "9b2de5cb-13c3-4804-9576-e7bb6fd3a371",
   "metadata": {},
   "source": [
    "# Exceptions"
   ]
  },
  {
   "cell_type": "code",
   "execution_count": 6,
   "id": "e297f7cb",
   "metadata": {},
   "outputs": [
    {
     "name": "stdout",
     "output_type": "stream",
     "text": [
      "Please enter a number: 352.23\n",
      "Oops! That was no valid number. Try again...\n"
     ]
    }
   ],
   "source": [
    "def check_prime(x):\n",
    "    try:\n",
    "        x = int(x)\n",
    "        print(x)\n",
    "        if(is_prime(x) == True):\n",
    "            print(\"Given number is a prime number\")\n",
    "        else:\n",
    "            print(\"Given number is not a prime number\")\n",
    "    except ValueError:  #ValueError is a type of Error\n",
    "        print(\"Oops! That was no valid number. Try again...\")\n",
    "\n",
    "x = input(\"Please enter a number: \")\n",
    "check_prime(x)\n"
   ]
  },
  {
   "cell_type": "markdown",
   "id": "d365aeef",
   "metadata": {},
   "source": [
    "A `check_prime` function is created which takes in a single input `x`. \n",
    "\n",
    "In `try and expect`, if x is int convertible we check whether the integer x is prime or not using `is_prime` function and printing the statement of what it is.\n",
    "\n",
    "When x can't be converted to integer, it means the given input is not an integer and so we use `exception handling` to print an error message, otherwise we run normally and check whether it is prime or not."
   ]
  }
 ],
 "metadata": {
  "authors": [
   {
    "name": "Nitin Chandrachoodan <nitin@ee.iitm.ac.in>"
   }
  ],
  "kernelspec": {
   "display_name": "Python 3 (ipykernel)",
   "language": "python",
   "name": "python3"
  },
  "language_info": {
   "codemirror_mode": {
    "name": "ipython",
    "version": 3
   },
   "file_extension": ".py",
   "mimetype": "text/x-python",
   "name": "python",
   "nbconvert_exporter": "python",
   "pygments_lexer": "ipython3",
   "version": "3.10.9"
  },
  "title": "EE2703 - Week 1",
  "toc-autonumbering": true,
  "vscode": {
   "interpreter": {
    "hash": "b0fa6594d8f4cbf19f97940f81e996739fb7646882a419484c72d19e05852a7e"
   }
  }
 },
 "nbformat": 4,
 "nbformat_minor": 5
}
