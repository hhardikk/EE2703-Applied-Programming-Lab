{
 "cells": [
  {
   "cell_type": "code",
   "execution_count": 56,
   "id": "fe5c5258",
   "metadata": {},
   "outputs": [],
   "source": [
    "def read_netlist(filename):\n",
    "    \n",
    "    with open(filename, 'r') as f:\n",
    "        lines = f.readlines()\n",
    "        \n",
    "    components = []\n",
    "  \n",
    "    for line in lines:\n",
    "        if line.strip() != \"\": \n",
    "            line = line.strip().split() \n",
    "\n",
    "            if str(line[0][0]) == 'g' and line[1] != 'inv' and line[1] != 'buf':\n",
    "                components.append(('g', (line[1]), (line[2]), (line[3]), (line[4])))\n",
    "            else:\n",
    "                components.append(('g', (line[1]), (line[2]), (line[3])))\n",
    "                \n",
    "    return components"
   ]
  },
  {
   "cell_type": "markdown",
   "id": "782ed566",
   "metadata": {},
   "source": [
    "This function `read_netlist` takes in the net file input and makes the data given in it user friendly so that it would be easy to use them while coding later on. In this I am appending the `gate_ID`, `parent_gates` and `output_gate` in a list of tuples which will make it easy to use later on."
   ]
  },
  {
   "cell_type": "code",
   "execution_count": 57,
   "id": "a450a14e",
   "metadata": {},
   "outputs": [],
   "source": [
    "import networkx as nx\n",
    "\n",
    "def topological_order(components):\n",
    "    g = nx.DiGraph()\n",
    "    Edges = []\n",
    "\n",
    "    for component in components:\n",
    "        if component[0] == 'g' and component[1] != 'inv' and component[1] != 'buf':\n",
    "            Edges.append(((component[2]), (component[4])))\n",
    "            Edges.append(((component[3]), (component[4])))\n",
    "        else:\n",
    "            Edges.append(((component[2]), (component[3])))\n",
    "\n",
    "    g.add_edges_from(Edges)\n",
    "    \n",
    "    if(nx.is_directed_acyclic_graph(g)==True):\n",
    "        pass\n",
    "    else:\n",
    "        print(\"Error!\")\n",
    "        print(\"The given gate connections form a cycle.\")\n",
    "        print(\"Terminating.\")\n",
    "        return\n",
    "    \n",
    "    nl = list(nx.topological_sort(g))\n",
    "    \n",
    "    return nl"
   ]
  },
  {
   "cell_type": "markdown",
   "id": "a921cb4c",
   "metadata": {},
   "source": [
    "This function creates a `topological_order` of all the nodes which are present in the logic gate circuit. It will place them in the order of them occuring; Starting with primary input and ending with the final output states who don't have any successors (who don't give any further output)."
   ]
  },
  {
   "cell_type": "code",
   "execution_count": 11,
   "id": "160ce2fe",
   "metadata": {},
   "outputs": [],
   "source": [
    "def successors(components, A):\n",
    "    g = nx.DiGraph()\n",
    "    Edges = []\n",
    "\n",
    "    for component in components:\n",
    "        if component[0] == 'g' and component[1] != 'inv' and component[1] != 'buf':\n",
    "            Edges.append(((component[2]), (component[4])))\n",
    "            Edges.append(((component[3]), (component[4])))\n",
    "        else:\n",
    "            Edges.append(((component[2]), (component[3])))\n",
    "            \n",
    "    g.add_edges_from(Edges)\n",
    "    suc = list(g.successors(A))\n",
    "    \n",
    "    return suc"
   ]
  },
  {
   "cell_type": "markdown",
   "id": "78a81098",
   "metadata": {},
   "source": [
    "This block of code will find the `successors` of a given node in logic gate circuit and return them in the form of list."
   ]
  },
  {
   "cell_type": "code",
   "execution_count": 12,
   "id": "76c04dac",
   "metadata": {},
   "outputs": [],
   "source": [
    "def nandgate(a, b):\n",
    "    return int(not(a and b))\n",
    "\n",
    "def orgate(a, b):\n",
    "    return int(a or b)\n",
    "\n",
    "def andgate(a, b):\n",
    "    return int(a and b)\n",
    "\n",
    "def norgate(a, b):\n",
    "    return int(not(a or b))\n",
    "\n",
    "def xorgate(a, b):\n",
    "    return int(a ^ b)\n",
    "\n",
    "def xnorgate(a, b):\n",
    "    return int(not(a ^ b))\n",
    "\n",
    "def invgate(a):\n",
    "    return int(not a)"
   ]
  },
  {
   "cell_type": "markdown",
   "id": "85a57f31",
   "metadata": {},
   "source": [
    "I have defined simple logic gate functions here in this block of code which are used to calculate output later on when needed"
   ]
  },
  {
   "cell_type": "markdown",
   "id": "2b1b8556",
   "metadata": {},
   "source": [
    "# TOPOLOGICAL METHOD:"
   ]
  },
  {
   "cell_type": "code",
   "execution_count": 60,
   "id": "d94fa784",
   "metadata": {},
   "outputs": [],
   "source": [
    "def topological_solution(filename_inputs, filename_net):\n",
    "    cp = read_netlist(filename_net)\n",
    "    xp = topological_order(cp)\n",
    "\n",
    "    x_dict = {xp[i]: i for i in range(len(xp))}\n",
    "\n",
    "    with open(filename_inputs, 'r') as f:\n",
    "        lines = f.readlines()\n",
    "\n",
    "    allinputs= []\n",
    "\n",
    "    for line in lines:\n",
    "        input_layer = []\n",
    "        dict_ = {}\n",
    "\n",
    "        for line_ in lines:\n",
    "            line_ = line_.strip().split()\n",
    "            for j in range(len(line_)):\n",
    "                dict_.update({line_[j]: line_[j]})\n",
    "                input_layer.append(line_[j])\n",
    "            break\n",
    "            \n",
    "            print(input_layer, dict_)\n",
    "            \n",
    "\n",
    "        if line[0] != \"N\" and line[0] != \"a\":\n",
    "            line = line.strip().split()\n",
    "            for j in range(len(line)):\n",
    "                dict_[input_layer[j]] = line[j]\n",
    "\n",
    "            allinputs.append(dict_)\n",
    "            \n",
    "    for i in allinputs:\n",
    "        while(len(i) != len(x_dict)):\n",
    "            for comp in cp:\n",
    "                if comp[2] in list(i):\n",
    "                    if comp[1] == 'inv':\n",
    "                        e = i[comp[2]]\n",
    "                        i.update({comp[3]: invgate(int(e))})\n",
    "                    elif comp[1] == 'buf':\n",
    "                        m = i[comp[2]]\n",
    "                        i.update({comp[3]: int(m)})\n",
    "                    elif comp[3] in list(i.keys()):\n",
    "                        p = i[comp[2]]\n",
    "                        q = i[comp[3]]\n",
    "                        if comp[1] == 'nand2':\n",
    "                            i.update({comp[4]: nandgate(int(p), int(q))})\n",
    "                        elif comp[1] == 'and2':\n",
    "                            i.update({comp[4]: andgate(int(p), int(q))})\n",
    "                        elif comp[1] == 'or2':\n",
    "                            i.update({comp[4]: orgate(int(p), int(q))})\n",
    "                        elif comp[1] == 'nor2':\n",
    "                            i.update({comp[4]: norgate(int(p), int(q))})\n",
    "                        elif comp[1] == 'xor2':\n",
    "                            i.update({comp[4]: xorgate(int(p), int(q))})\n",
    "                        elif comp[1] == 'xnor2':\n",
    "                            i.update({comp[4]: xnorgate(int(p), int(q))})\n",
    "                 \n",
    "    return allinputs"
   ]
  },
  {
   "cell_type": "code",
   "execution_count": 62,
   "id": "5aaf52c2",
   "metadata": {},
   "outputs": [
    {
     "name": "stdout",
     "output_type": "stream",
     "text": [
      "[{'N1': '0', 'N2': '1', 'N3': '0', 'N6': '0', 'N7': '0', 'n_0': 1, 'n_1': 1, 'n_3': 0, 'n_2': 1, 'N22': 1, 'N23': 1}, {'N1': '0', 'N2': '0', 'N3': '1', 'N6': '0', 'N7': '0', 'n_0': 1, 'n_1': 1, 'n_3': 1, 'n_2': 1, 'N22': 0, 'N23': 0}, {'N1': '1', 'N2': '0', 'N3': '0', 'N6': '0', 'N7': '0', 'n_0': 1, 'n_1': 1, 'n_3': 1, 'n_2': 1, 'N22': 0, 'N23': 0}, {'N1': '0', 'N2': '0', 'N3': '1', 'N6': '1', 'N7': '1', 'n_0': 1, 'n_1': 0, 'n_3': 1, 'n_2': 1, 'N22': 0, 'N23': 0}, {'N1': '1', 'N2': '1', 'N3': '1', 'N6': '1', 'N7': '1', 'n_0': 0, 'n_1': 0, 'n_3': 1, 'n_2': 1, 'N22': 1, 'N23': 0}, {'N1': '1', 'N2': '1', 'N3': '1', 'N6': '0', 'N7': '0', 'n_0': 0, 'n_1': 1, 'n_3': 0, 'n_2': 1, 'N22': 1, 'N23': 1}, {'N1': '1', 'N2': '1', 'N3': '1', 'N6': '1', 'N7': '0', 'n_0': 0, 'n_1': 0, 'n_3': 1, 'n_2': 1, 'N22': 1, 'N23': 0}, {'N1': '1', 'N2': '1', 'N3': '0', 'N6': '0', 'N7': '0', 'n_0': 1, 'n_1': 1, 'n_3': 0, 'n_2': 1, 'N22': 1, 'N23': 1}, {'N1': '0', 'N2': '1', 'N3': '1', 'N6': '0', 'N7': '1', 'n_0': 1, 'n_1': 1, 'n_3': 0, 'n_2': 0, 'N22': 1, 'N23': 1}, {'N1': '0', 'N2': '0', 'N3': '1', 'N6': '1', 'N7': '0', 'n_0': 1, 'n_1': 0, 'n_3': 1, 'n_2': 1, 'N22': 0, 'N23': 0}]\n"
     ]
    }
   ],
   "source": [
    "print(topological_solution(\"c17.inputs\", \"c17.net\"))"
   ]
  },
  {
   "cell_type": "markdown",
   "id": "8d7fb438",
   "metadata": {},
   "source": [
    "This function takes two file as inputs: one for input values and other is the netlist. It uses the `read_netlist` function to read netlist and then uses `topological_order` function to determine the order in which the gates should be evaluated.\n",
    "\n",
    "Later it reads input value file and create dictionaries for each line whose keys are the respective primary input gate and key is also the same. I have done like this now because afterwards I am appending them with the respective input given because there is not a single input that's why it was good to generalise them first. These all dictionaries after appending inputs are then stored them in a list called `allinputs`.\n",
    "\n",
    "Afterwards each dictionary I iterate each dictionary through a loop of all components present in netlist wherein the dictionary would be updated untill and unless all states are present in the dictionary. This loop evaluates the gates in the netlist by checking whether the inputs for each gate are in the dictionary. If they are, the function uses the input values to perform the appropriate gate operation and updates the dictionary with the output value.\n",
    "\n",
    "The loop condition that is `len(i) != len(x_dict)` will make the loop run exactly the `number of times = number of layer` present in the topological sequence. This loop is repeated until all gates for the current input values have been evaluated. After processing all input values, the function returns a list of dictionaries, where each dictionary represents the output values for a set of input values."
   ]
  },
  {
   "cell_type": "markdown",
   "id": "2a3d5a5a",
   "metadata": {},
   "source": [
    "# EVENT-DRIVEN APPROACH:"
   ]
  },
  {
   "cell_type": "code",
   "execution_count": 63,
   "id": "1b93ddd8",
   "metadata": {},
   "outputs": [],
   "source": [
    "def inputs(filename_inputs, filename_net):\n",
    "    cp = read_netlist(filename_net)\n",
    "    xp = topological_order(cp)\n",
    "\n",
    "    x_dict = {xp[i]: i for i in range(len(xp))}\n",
    "\n",
    "    with open(filename_inputs, 'r') as f:\n",
    "        lines = f.readlines()\n",
    "\n",
    "    allinputs= []\n",
    "\n",
    "    for line in lines:\n",
    "        input_layer = []\n",
    "        dict_ = {}\n",
    "\n",
    "        for line_ in lines:\n",
    "            line_ = line_.strip().split()\n",
    "            for j in range(len(line_)):\n",
    "                dict_.update({line_[j]: line_[j]})\n",
    "                input_layer.append(line_[j])\n",
    "            break\n",
    "\n",
    "        if line[0] != \"N\" and line[0] != \"a\":\n",
    "            line = line.strip().split()\n",
    "            for j in range(len(line)):\n",
    "                dict_[input_layer[j]] = line[j]\n",
    "\n",
    "            allinputs.append(dict_)\n",
    "    return allinputs"
   ]
  },
  {
   "cell_type": "markdown",
   "id": "812c77e9",
   "metadata": {},
   "source": [
    "Similarly as did in `topological_order_function` this function also creates a list of dictionaries of all the inputs which needs to be evaluated."
   ]
  },
  {
   "cell_type": "code",
   "execution_count": 65,
   "id": "13ca95dd",
   "metadata": {},
   "outputs": [],
   "source": [
    "def output_demo(filename_inputs, filename_net):\n",
    "    cp = read_netlist(filename_net)\n",
    "    xp = topological_order(cp)\n",
    "    \n",
    "    allinputs = inputs(filename_inputs, filename_net)\n",
    "    alloutputs = []\n",
    "    for inputs_ in allinputs:\n",
    "        outputdict = inputs_\n",
    "        for i in xp:\n",
    "            if i not in outputdict:\n",
    "                outputdict.update({i:'x'})\n",
    "                \n",
    "        alloutputs.append(outputdict)\n",
    "        \n",
    "    return alloutputs"
   ]
  },
  {
   "cell_type": "markdown",
   "id": "d4ff2392",
   "metadata": {},
   "source": [
    "This function called `output_demo` in same way as we created list of dictionaries for inputs it will create list of dictionaries for outputs where in the values of primary inputs are specified as given in the output list but for other states simply `x` is given as it's value as we are using queue method here, it will be updated later on in next block of code"
   ]
  },
  {
   "cell_type": "code",
   "execution_count": 67,
   "id": "2d17a44d",
   "metadata": {},
   "outputs": [
    {
     "name": "stdout",
     "output_type": "stream",
     "text": [
      "[{'N1': '0', 'N2': '1', 'N3': '0', 'N6': '0', 'N7': '0', 'n_0': 'x', 'n_1': 'x', 'n_3': 'x', 'n_2': 'x', 'N22': 'x', 'N23': 'x'}, {'N1': '0', 'N2': '0', 'N3': '1', 'N6': '0', 'N7': '0', 'n_0': 'x', 'n_1': 'x', 'n_3': 'x', 'n_2': 'x', 'N22': 'x', 'N23': 'x'}, {'N1': '1', 'N2': '0', 'N3': '0', 'N6': '0', 'N7': '0', 'n_0': 'x', 'n_1': 'x', 'n_3': 'x', 'n_2': 'x', 'N22': 'x', 'N23': 'x'}, {'N1': '0', 'N2': '0', 'N3': '1', 'N6': '1', 'N7': '1', 'n_0': 'x', 'n_1': 'x', 'n_3': 'x', 'n_2': 'x', 'N22': 'x', 'N23': 'x'}, {'N1': '1', 'N2': '1', 'N3': '1', 'N6': '1', 'N7': '1', 'n_0': 'x', 'n_1': 'x', 'n_3': 'x', 'n_2': 'x', 'N22': 'x', 'N23': 'x'}, {'N1': '1', 'N2': '1', 'N3': '1', 'N6': '0', 'N7': '0', 'n_0': 'x', 'n_1': 'x', 'n_3': 'x', 'n_2': 'x', 'N22': 'x', 'N23': 'x'}, {'N1': '1', 'N2': '1', 'N3': '1', 'N6': '1', 'N7': '0', 'n_0': 'x', 'n_1': 'x', 'n_3': 'x', 'n_2': 'x', 'N22': 'x', 'N23': 'x'}, {'N1': '1', 'N2': '1', 'N3': '0', 'N6': '0', 'N7': '0', 'n_0': 'x', 'n_1': 'x', 'n_3': 'x', 'n_2': 'x', 'N22': 'x', 'N23': 'x'}, {'N1': '0', 'N2': '1', 'N3': '1', 'N6': '0', 'N7': '1', 'n_0': 'x', 'n_1': 'x', 'n_3': 'x', 'n_2': 'x', 'N22': 'x', 'N23': 'x'}, {'N1': '0', 'N2': '0', 'N3': '1', 'N6': '1', 'N7': '0', 'n_0': 'x', 'n_1': 'x', 'n_3': 'x', 'n_2': 'x', 'N22': 'x', 'N23': 'x'}]\n"
     ]
    }
   ],
   "source": [
    "print(output_demo(\"c17.inputs\", \"c17.net\"))"
   ]
  },
  {
   "cell_type": "code",
   "execution_count": 54,
   "id": "2b60a183",
   "metadata": {},
   "outputs": [],
   "source": [
    "import queue\n",
    "\n",
    "def queuing(filename_inputs, filename_net):\n",
    "    comp = read_netlist(filename_net)\n",
    "    topo = topological_order(comp)\n",
    "    alloutputs = output_demo(filename_inputs, filename_net)\n",
    "    \n",
    "    for output in alloutputs:\n",
    "        compare_dict = alloutputs[0]\n",
    "        q = queue.Queue()\n",
    "        for i in output:\n",
    "            q.put(i)\n",
    "\n",
    "        while not q.empty():\n",
    "            item = q.get()\n",
    "            for c in comp:  \n",
    "                if c[1] == 'inv':\n",
    "                    if c[3] == item:\n",
    "                        initial = compare_dict[item]\n",
    "                        a = output[c[2]]\n",
    "                        try:\n",
    "                            a == int(a)\n",
    "                            final = invgate(int(a))\n",
    "                            if initial != final:\n",
    "                                output[item] = final\n",
    "                                suc = successors(comp, item)\n",
    "                                for i in suc:\n",
    "                                    q.put(i)\n",
    "                            else:\n",
    "                                output[item] = initial\n",
    "                        except:\n",
    "                            pass\n",
    "                        \n",
    "                elif c[1] == 'buf':\n",
    "                    if c[3] == item:\n",
    "                        initial = compare_dict[item]\n",
    "                        a = output[c[2]]\n",
    "                        try:\n",
    "                            a == int(a)\n",
    "                            final = final = int(a)\n",
    "                            if initial != final:\n",
    "                                output[item] = final\n",
    "                                suc = successors(comp, item)\n",
    "                                for i in suc:\n",
    "                                    q.put(i)\n",
    "                            else:\n",
    "                                output[item] = initial\n",
    "                        except:\n",
    "                            pass\n",
    "                        \n",
    "                elif c[4] == item:\n",
    "                    initial = compare_dict[item]\n",
    "                    a = output[c[2]]\n",
    "                    b = output[c[3]]\n",
    "                    try:\n",
    "                        a == int(a) and b == int(b)\n",
    "                        if c[1] == 'nand2':\n",
    "                            final = (nandgate(int(a), int(b)))\n",
    "                        elif c[1] == 'and2':\n",
    "                            final = (andgate(int(a), int(b)))\n",
    "                        elif c[1] == 'xor2':\n",
    "                            final = (xorgate(int(a), int(b)))\n",
    "                        elif c[1] == 'xnor2':\n",
    "                            final = (xnorgate(int(a), int(b)))\n",
    "                        elif c[1] == 'xnor2':\n",
    "                            final = (xnorgate(int(a), int(b)))\n",
    "                        elif c[1] == 'or2':\n",
    "                            final = (orgate(int(a), int(b)))\n",
    "                        elif c[1] == 'nor2':\n",
    "                            final = (norgate(int(a), int(b)))\n",
    "                        \n",
    "                        if final != initial:\n",
    "                            output[item] = final\n",
    "                            suc = successors(comp, item)\n",
    "                            for i in suc:\n",
    "                                q.put(i)\n",
    "                                \n",
    "                        else:\n",
    "                            output[item] = initial\n",
    "                            \n",
    "                    except:\n",
    "                        pass        \n",
    "    return alloutputs"
   ]
  },
  {
   "cell_type": "code",
   "execution_count": 69,
   "id": "db79e0f6",
   "metadata": {},
   "outputs": [
    {
     "name": "stdout",
     "output_type": "stream",
     "text": [
      "[{'N1': '0', 'N2': '1', 'N3': '0', 'N6': '0', 'N7': '0', 'n_0': 1, 'n_1': 1, 'n_3': 0, 'n_2': 1, 'N22': 1, 'N23': 1}, {'N1': '0', 'N2': '0', 'N3': '1', 'N6': '0', 'N7': '0', 'n_0': 1, 'n_1': 1, 'n_3': 1, 'n_2': 1, 'N22': 0, 'N23': 0}, {'N1': '1', 'N2': '0', 'N3': '0', 'N6': '0', 'N7': '0', 'n_0': 1, 'n_1': 1, 'n_3': 1, 'n_2': 1, 'N22': 0, 'N23': 0}, {'N1': '0', 'N2': '0', 'N3': '1', 'N6': '1', 'N7': '1', 'n_0': 1, 'n_1': 0, 'n_3': 1, 'n_2': 1, 'N22': 0, 'N23': 0}, {'N1': '1', 'N2': '1', 'N3': '1', 'N6': '1', 'N7': '1', 'n_0': 0, 'n_1': 0, 'n_3': 1, 'n_2': 1, 'N22': 1, 'N23': 0}, {'N1': '1', 'N2': '1', 'N3': '1', 'N6': '0', 'N7': '0', 'n_0': 0, 'n_1': 1, 'n_3': 0, 'n_2': 1, 'N22': 1, 'N23': 1}, {'N1': '1', 'N2': '1', 'N3': '1', 'N6': '1', 'N7': '0', 'n_0': 0, 'n_1': 0, 'n_3': 1, 'n_2': 1, 'N22': 1, 'N23': 0}, {'N1': '1', 'N2': '1', 'N3': '0', 'N6': '0', 'N7': '0', 'n_0': 1, 'n_1': 1, 'n_3': 0, 'n_2': 1, 'N22': 1, 'N23': 1}, {'N1': '0', 'N2': '1', 'N3': '1', 'N6': '0', 'N7': '1', 'n_0': 1, 'n_1': 1, 'n_3': 0, 'n_2': 0, 'N22': 1, 'N23': 1}, {'N1': '0', 'N2': '0', 'N3': '1', 'N6': '1', 'N7': '0', 'n_0': 1, 'n_1': 0, 'n_3': 1, 'n_2': 1, 'N22': 0, 'N23': 0}]\n"
     ]
    }
   ],
   "source": [
    "print(queuing(\"c17.inputs\", \"c17.net\"))"
   ]
  },
  {
   "cell_type": "markdown",
   "id": "1fd41bf8",
   "metadata": {},
   "source": [
    "This function will operated the `queuing method` (event_driven approach) to solve for all the states of logic gate circuit. A loop is iterated for each set of output values we get from `output_demo` function. It starts by creating a queue for the first set of output values and uses the topological order and primary inputs to determine the order of gates to be evaluated.\n",
    "\n",
    "Inside the loop I have implemented normal queuing algorithm.  Fr each of those gates, it checks the gate type to determine how to evaluate the gate. If the gate is an inverter or buffer, it simply applies the appropriate operation to the input value and updates the output value for that gate in the output dictionary. If the gate is a 2-input logic gate, it applies the appropriate logic operation to the input values and updates the output value for that gate in the output dictionary.\n",
    "\n",
    "The queuing algorithm which I used here is after popping a node from the queue, it will determine it's initial value and the final value depeding on it's predessors and gate type or it can be a primary input and after that if the inital value is equal to final value it directly jumps to another element in the queue.\n",
    "\n",
    "But if initial value is not equal to final value, it will add the successor's of the input because since the input is not same anymore the gate also won't be same anymore and so there's a need of it to be added to the list again. After this the final value is appended in the output dictionary for the particular input of that particular state.\n",
    "\n",
    "This all process goes on untill the queue becomes empty that is there are no more successor's pending to be added in that queue. Once all this is dont the output dictionary for the current set of input values is addede to a list called `alloutputs`\n",
    "\n",
    "Finally, after all sets of input values have been evaluated, the function returns the `alloutputs` list containing a dictionary of output values for each set of input values."
   ]
  },
  {
   "cell_type": "code",
   "execution_count": 9,
   "id": "011dc033",
   "metadata": {},
   "outputs": [],
   "source": [
    "def filetransfer_topological(filename_inputs, filename_net, filename_create):\n",
    "    components = read_netlist(filename_net)\n",
    "    topo_order = topological_order(components)\n",
    "    \n",
    "    topo_order.sort()\n",
    "    \n",
    "    topological = topological_solution(filename_inputs, filename_net)\n",
    "  \n",
    "    with open(filename_create, 'w') as f:\n",
    "        for i in topo_order:\n",
    "            f.write(f\"{i} \")\n",
    "        f.write(\"\\n\")\n",
    "        for i in topological:\n",
    "            list_output = dict(sorted(i.items()))\n",
    "            list_output = list(list_output.values())\n",
    "            for i in list_output:\n",
    "                f.write(f\"{i} \")\n",
    "            f.write(\"\\n\")\n",
    "            \n",
    "        f.write(\"\\n\")\n",
    "    \n",
    "    return"
   ]
  },
  {
   "cell_type": "markdown",
   "id": "355b95e2",
   "metadata": {},
   "source": [
    "This block of code writes the output generated by `topological_solution` method in the format which is asked. It first sorts the topological order and the output dictionary order in the alphabetical order and depending on the input vector the corresponding output vector is written in the file."
   ]
  },
  {
   "cell_type": "code",
   "execution_count": 10,
   "id": "15af38d0",
   "metadata": {},
   "outputs": [],
   "source": [
    "def filetransfer_queue(filename_inputs, filename_net, filename_create):\n",
    "    components = read_netlist(filename_net)\n",
    "    topo_order = topological_order(components)\n",
    "    \n",
    "    topo_order.sort()\n",
    "    \n",
    "    queue = queuing(filename_inputs, filename_net)\n",
    "    \n",
    "    with open(filename_create, 'w') as f:\n",
    "        for i in topo_order:\n",
    "            f.write(f\"{i} \")\n",
    "        f.write(\"\\n\")\n",
    "        for i in queue:\n",
    "            list_output = dict(sorted(i.items()))\n",
    "            list_output = list(list_output.values())\n",
    "            for i in list_output:\n",
    "                f.write(f\"{i} \")\n",
    "            f.write(\"\\n\")\n",
    "    \n",
    "    return"
   ]
  },
  {
   "cell_type": "markdown",
   "id": "65fc311b",
   "metadata": {},
   "source": [
    "This is the same code as above just the change present here is the output is taken from `queuing` function."
   ]
  },
  {
   "cell_type": "markdown",
   "id": "5eb52e47",
   "metadata": {},
   "source": [
    "# C17_1.net "
   ]
  },
  {
   "cell_type": "code",
   "execution_count": 70,
   "id": "b61cad5b",
   "metadata": {},
   "outputs": [
    {
     "name": "stdout",
     "output_type": "stream",
     "text": [
      "Error!\n",
      "The given gate connections form a cycle.\n",
      "Terminating.\n"
     ]
    }
   ],
   "source": [
    "comp = read_netlist(\"c17_1.net\")\n",
    "topo = topological_order(comp)"
   ]
  },
  {
   "cell_type": "code",
   "execution_count": 11,
   "id": "c2b5dae3",
   "metadata": {},
   "outputs": [
    {
     "name": "stdout",
     "output_type": "stream",
     "text": [
      "413 µs ± 40.9 µs per loop (mean ± std. dev. of 7 runs, 1,000 loops each)\n",
      "838 µs ± 41 µs per loop (mean ± std. dev. of 7 runs, 1,000 loops each)\n",
      "15.3 ms ± 399 µs per loop (mean ± std. dev. of 7 runs, 100 loops each)\n",
      "1.56 s ± 4.38 ms per loop (mean ± std. dev. of 7 runs, 1 loop each)\n"
     ]
    }
   ],
   "source": [
    "filetransfer_topological(\"c17.inputs\", \"c17.net\", \"c17_topo.outputs\")\n",
    "%timeit filetransfer_topological(\"c17.inputs\", \"c17.net\", \"c17_topo.outputs\")\n",
    "filetransfer_topological(\"parity.inputs\", \"parity.net\", \"parity_topo.outputs\")\n",
    "%timeit filetransfer_topological(\"parity.inputs\", \"parity.net\", \"parity_topo.outputs\")\n",
    "filetransfer_topological(\"c8.inputs\", \"c8.net\", \"c8_topo.outputs\")\n",
    "%timeit filetransfer_topological(\"c8.inputs\", \"c8.net\", \"c8_topo.outputs\")\n",
    "filetransfer_topological(\"c432.inputs\", \"c432.net\", \"c432_topo.outputs\")\n",
    "%timeit filetransfer_topological(\"c432.inputs\", \"c432.net\", \"c432_topo.outputs\")"
   ]
  },
  {
   "cell_type": "code",
   "execution_count": 12,
   "id": "bd8d9909",
   "metadata": {},
   "outputs": [
    {
     "name": "stdout",
     "output_type": "stream",
     "text": [
      "1.76 ms ± 16.1 µs per loop (mean ± std. dev. of 7 runs, 1,000 loops each)\n",
      "4.24 ms ± 6.68 µs per loop (mean ± std. dev. of 7 runs, 100 loops each)\n",
      "121 ms ± 68.3 µs per loop (mean ± std. dev. of 7 runs, 10 loops each)\n",
      "17.5 s ± 244 ms per loop (mean ± std. dev. of 7 runs, 1 loop each)\n"
     ]
    }
   ],
   "source": [
    "filetransfer_queue(\"c17.inputs\", \"c17.net\", \"c17_queue.outputs\")\n",
    "%timeit filetransfer_queue(\"c17.inputs\", \"c17.net\", \"c17_queue.outputs\")\n",
    "filetransfer_queue(\"parity.inputs\", \"parity.net\", \"parity_queue.outputs\")\n",
    "%timeit filetransfer_queue(\"parity.inputs\", \"parity.net\", \"parity_queue.outputs\")\n",
    "filetransfer_queue(\"c8.inputs\", \"c8.net\", \"c8_queue.outputs\")\n",
    "%timeit filetransfer_queue(\"c8.inputs\", \"c8.net\", \"c8_queue.outputs\")\n",
    "filetransfer_queue(\"c432.inputs\", \"c432.net\", \"c432_queue.outputs\")\n",
    "%timeit filetransfer_queue(\"c432.inputs\", \"c432.net\", \"c432_queue.outputs\")"
   ]
  },
  {
   "cell_type": "markdown",
   "id": "a8932abe",
   "metadata": {},
   "source": [
    "# CONCLUSION"
   ]
  },
  {
   "cell_type": "markdown",
   "id": "b0c12f20",
   "metadata": {},
   "source": [
    "As seen by the time it operations it can be seen as the topological method is faster than the queuing method in terms of solving and taking down the values for all the states which are present in the logic gate circuit. It can be seen from the inputs that topological sort with multiple rounds of circuit evaluations may be more efficient for small and simple circuits, while event-driven simulation using queues may be more efficient for larger and more complex circuits.\n",
    "\n",
    "As can be seen, topological sort requires an initial pass to determine the order of the nodes, followed by multiple rounds of circuit evaluations to determine the output values of the gates. The number of rounds required is determined by the depth of circuit that is the number of levels of states which are present in the circuit. Topological sort can be very efficient for small circuits with few gates, but for larger circuits, the number of rounds can become a heck as it will start calculating output for start as each new level comes into play. As just imagine we are calculating output for level 100, it will start from level 1 come to level 99 and then it will evaluate results for level 100 which is a lot of time taking process.\n",
    "\n",
    "Event-driven simulation with queues, on the other hand, can handle circuits of any size and complexity, but requires a more neat implementation. Each gate is represented as an event that is added to a queue when its inputs change. When an event is processed, the gate's output value is calculated, and events for its successor gates are added to the queue when there is a change in event because the logic is if input gate changes there is a high possibility that the output might chage. Because it only processes events that are affected by input changes rather than computing all gates in each round, this approach can be very efficient for large circuits with many gates and high nodes. \n",
    "\n",
    "In summary, both approaches have advantages and disadvantages, and the choice depends on the specific problem and the characteristics of the input data."
   ]
  }
 ],
 "metadata": {
  "kernelspec": {
   "display_name": "Python 3 (ipykernel)",
   "language": "python",
   "name": "python3"
  },
  "language_info": {
   "codemirror_mode": {
    "name": "ipython",
    "version": 3
   },
   "file_extension": ".py",
   "mimetype": "text/x-python",
   "name": "python",
   "nbconvert_exporter": "python",
   "pygments_lexer": "ipython3",
   "version": "3.10.9"
  }
 },
 "nbformat": 4,
 "nbformat_minor": 5
}
